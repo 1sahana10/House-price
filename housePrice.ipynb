{
  "nbformat": 4,
  "nbformat_minor": 0,
  "metadata": {
    "colab": {
      "provenance": [],
      "include_colab_link": true
    },
    "kernelspec": {
      "name": "python3",
      "display_name": "Python 3"
    },
    "language_info": {
      "name": "python"
    }
  },
  "cells": [
    {
      "cell_type": "markdown",
      "metadata": {
        "id": "view-in-github",
        "colab_type": "text"
      },
      "source": [
        "<a href=\"https://colab.research.google.com/github/1sahana10/House-price/blob/main/housePrice.ipynb\" target=\"_parent\"><img src=\"https://colab.research.google.com/assets/colab-badge.svg\" alt=\"Open In Colab\"/></a>"
      ]
    },
    {
      "cell_type": "markdown",
      "source": [
        "# House price prediction"
      ],
      "metadata": {
        "id": "zWap3CGOImeS"
      }
    },
    {
      "cell_type": "markdown",
      "source": [
        "### Importing required libraries"
      ],
      "metadata": {
        "id": "4gBOexiPItkt"
      }
    },
    {
      "cell_type": "code",
      "execution_count": null,
      "metadata": {
        "id": "n8VbZ9isESbN"
      },
      "outputs": [],
      "source": [
        "import pandas as pd\n",
        "import matplotlib.pyplot as plt\n",
        "import seaborn as sns\n",
        "\n",
        "dataset = pd.read_csv(\"houses.csv\")\n",
        "\n",
        "print(dataset.head())"
      ]
    },
    {
      "cell_type": "markdown",
      "source": [],
      "metadata": {
        "id": "Jqh6a77DYmgM"
      }
    },
    {
      "cell_type": "markdown",
      "source": [
        "### Data visualization"
      ],
      "metadata": {
        "id": "uNSx0UbgKw5g"
      }
    },
    {
      "cell_type": "code",
      "source": [
        "print(dataset.dtypes)\n",
        "\n",
        "# Checking for null values\n",
        "null_counts = dataset.isnull().sum()\n",
        "print(null_counts)"
      ],
      "metadata": {
        "id": "Ct1dlW7a0K8i"
      },
      "execution_count": null,
      "outputs": []
    },
    {
      "cell_type": "markdown",
      "source": [
        "### Data preprocessing and cleaning"
      ],
      "metadata": {
        "id": "_2JLVz09I9CT"
      }
    },
    {
      "cell_type": "code",
      "source": [
        "dataset.drop([\"waterfront\",\"yr_renovated\",\"zipcode\"], axis=1, inplace=True)\n",
        "print(dataset.head())\n",
        "n_dataset = dataset.dropna()\n",
        "n_dataset.isnull().sum()"
      ],
      "metadata": {
        "id": "hfJDT-ohKPXh"
      },
      "execution_count": null,
      "outputs": []
    },
    {
      "cell_type": "markdown",
      "source": [
        "### Splitting data into training and testing"
      ],
      "metadata": {
        "id": "Il8539nfQjGx"
      }
    },
    {
      "cell_type": "code",
      "source": [
        "from sklearn.model_selection import train_test_split\n",
        "\n",
        "x = n_dataset.iloc[:,:-1]\n",
        "y = n_dataset.iloc[:,-1]\n",
        "print(x.head())\n",
        "print(y.head())\n",
        "\n",
        "x_train, x_test, y_train, y_test = train_test_split(x, y, train_size=0.8, test_size=0.2, random_state=0)\n"
      ],
      "metadata": {
        "id": "X2L0VKu3QrQL"
      },
      "execution_count": null,
      "outputs": []
    },
    {
      "cell_type": "markdown",
      "source": [
        "### Training model using linear regression\n"
      ],
      "metadata": {
        "id": "DantoIGETpBn"
      }
    },
    {
      "cell_type": "code",
      "source": [
        "from sklearn.linear_model import LinearRegression\n",
        "from sklearn.metrics import mean_absolute_percentage_error\n",
        "from sklearn.metrics import mean_squared_error\n",
        "\n",
        "regressor = LinearRegression()\n",
        "regressor.fit(x_train, y_train)\n",
        "y_pred = regressor.predict(x_test)\n"
      ],
      "metadata": {
        "id": "3Tzyd_uZTuev"
      },
      "execution_count": null,
      "outputs": []
    },
    {
      "cell_type": "markdown",
      "source": [
        "### Comparision between Test and predicted values"
      ],
      "metadata": {
        "id": "gHz69seq4mn7"
      }
    },
    {
      "cell_type": "code",
      "source": [
        "results = pd.DataFrame({\"Test Values\": y_test, \"Predicted Values\": y_pred })\n",
        "print(results.head(20))"
      ],
      "metadata": {
        "id": "yjlfExMy3sNE"
      },
      "execution_count": null,
      "outputs": []
    },
    {
      "cell_type": "markdown",
      "source": [
        "### Accuracy measurement\n"
      ],
      "metadata": {
        "id": "SI06W7Rl4tIm"
      }
    },
    {
      "cell_type": "code",
      "source": [
        "import numpy as np\n",
        "print(\"The mean absolute percentage error is: \")\n",
        "print(mean_absolute_percentage_error(y_test, y_pred))\n",
        "\n",
        "mse = mean_squared_error(y_test, y_pred)\n",
        "rmse = np.sqrt(mse)\n",
        "print(f\"Mean Squared error: {mse}\")\n",
        "print(f\"Root Mean Squared error: {rmse}\")"
      ],
      "metadata": {
        "id": "_L1OZpWe1gRH"
      },
      "execution_count": null,
      "outputs": []
    },
    {
      "cell_type": "markdown",
      "source": [],
      "metadata": {
        "id": "8mtV3b55VXm7"
      }
    }
  ]
}